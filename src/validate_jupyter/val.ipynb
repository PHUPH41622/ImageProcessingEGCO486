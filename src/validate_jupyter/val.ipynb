{
 "cells": [
  {
   "cell_type": "markdown",
   "metadata": {},
   "source": [
    "## validate yolov11n with augmentation"
   ]
  },
  {
   "cell_type": "code",
   "execution_count": 18,
   "metadata": {},
   "outputs": [
    {
     "name": "stdout",
     "output_type": "stream",
     "text": [
      "Ultralytics 8.3.31 🚀 Python-3.11.7 torch-2.3.1+cpu CPU (13th Gen Intel Core(TM) i7-13700F)\n",
      "YOLO11n summary (fused): 238 layers, 2,583,127 parameters, 0 gradients, 6.3 GFLOPs\n",
      "                   all         44        162       0.99      0.994       0.99      0.935\n",
      "                     0         27         32      0.997          1      0.995       0.94\n",
      "                     1         22         29      0.999          1      0.995      0.942\n",
      "                     2         20         26      0.993          1      0.995      0.945\n",
      "                     3         32         42       0.99          1      0.995      0.933\n",
      "                     4         26         33      0.972       0.97      0.968      0.915\n",
      "Speed: 0.9ms preprocess, 40.3ms inference, 0.0ms loss, 0.2ms postprocess per image\n",
      "Results saved to \u001b[1mruns\\detect\\val\u001b[0m\n",
      "💡 Learn more at https://docs.ultralytics.com/modes/val\n"
     ]
    },
    {
     "name": "stderr",
     "output_type": "stream",
     "text": [
      "\n",
      "\u001b[34m\u001b[1mval: \u001b[0mScanning E:\\ImageProcessingProject_cloned\\ImageProcessingEGCO486\\val\\labels.cache... 44 images, 0 backgrounds, 0 corrupt: 100%|██████████| 44/44 [00:00<?, ?it/s]\n",
      "\u001b[34m\u001b[1mval: \u001b[0mScanning E:\\ImageProcessingProject_cloned\\ImageProcessingEGCO486\\val\\labels.cache... 44 images, 0 backgrounds, 0 corrupt: 100%|██████████| 44/44 [00:00<?, ?it/s]\n",
      "\n",
      "                 Class     Images  Instances      Box(P          R      mAP50  mAP50-95):   0%|          | 0/3 [00:00<?, ?it/s]\n",
      "                 Class     Images  Instances      Box(P          R      mAP50  mAP50-95):  33%|███▎      | 1/3 [00:00<00:01,  1.38it/s]\n",
      "                 Class     Images  Instances      Box(P          R      mAP50  mAP50-95):  67%|██████▋   | 2/3 [00:01<00:00,  1.32it/s]\n",
      "                 Class     Images  Instances      Box(P          R      mAP50  mAP50-95): 100%|██████████| 3/3 [00:02<00:00,  1.50it/s]\n",
      "                 Class     Images  Instances      Box(P          R      mAP50  mAP50-95): 100%|██████████| 3/3 [00:02<00:00,  1.45it/s]\n"
     ]
    }
   ],
   "source": [
    "!yolo task=detect mode=val model=E:/ImageProcessingProject_cloned/ImageProcessingEGCO486/weights/yolov11n_aug.pt data=E:/ImageProcessingProject_cloned/ImageProcessingEGCO486/config.yaml"
   ]
  },
  {
   "cell_type": "markdown",
   "metadata": {},
   "source": [
    "## validate yolov11n without augmentation"
   ]
  },
  {
   "cell_type": "code",
   "execution_count": 19,
   "metadata": {},
   "outputs": [
    {
     "name": "stdout",
     "output_type": "stream",
     "text": [
      "Ultralytics 8.3.31 🚀 Python-3.11.7 torch-2.3.1+cpu CPU (13th Gen Intel Core(TM) i7-13700F)\n",
      "YOLO11n summary (fused): 238 layers, 2,583,127 parameters, 0 gradients, 6.3 GFLOPs\n",
      "                   all         44        162      0.984      0.977      0.984      0.915\n",
      "                     0         27         32      0.974          1      0.995      0.926\n",
      "                     1         22         29      0.965      0.952      0.992       0.89\n",
      "                     2         20         26      0.984          1      0.995      0.933\n",
      "                     3         32         42      0.996          1      0.995      0.928\n",
      "                     4         26         33          1      0.934      0.945      0.901\n",
      "Speed: 0.9ms preprocess, 39.4ms inference, 0.0ms loss, 2.8ms postprocess per image\n",
      "Results saved to \u001b[1mruns\\detect\\val2\u001b[0m\n",
      "💡 Learn more at https://docs.ultralytics.com/modes/val\n"
     ]
    },
    {
     "name": "stderr",
     "output_type": "stream",
     "text": [
      "\n",
      "\u001b[34m\u001b[1mval: \u001b[0mScanning E:\\ImageProcessingProject_cloned\\ImageProcessingEGCO486\\val\\labels.cache... 44 images, 0 backgrounds, 0 corrupt: 100%|██████████| 44/44 [00:00<?, ?it/s]\n",
      "\u001b[34m\u001b[1mval: \u001b[0mScanning E:\\ImageProcessingProject_cloned\\ImageProcessingEGCO486\\val\\labels.cache... 44 images, 0 backgrounds, 0 corrupt: 100%|██████████| 44/44 [00:00<?, ?it/s]\n",
      "\n",
      "                 Class     Images  Instances      Box(P          R      mAP50  mAP50-95):   0%|          | 0/3 [00:00<?, ?it/s]\n",
      "                 Class     Images  Instances      Box(P          R      mAP50  mAP50-95):  33%|███▎      | 1/3 [00:00<00:01,  1.29it/s]\n",
      "                 Class     Images  Instances      Box(P          R      mAP50  mAP50-95):  67%|██████▋   | 2/3 [00:01<00:00,  1.29it/s]\n",
      "                 Class     Images  Instances      Box(P          R      mAP50  mAP50-95): 100%|██████████| 3/3 [00:02<00:00,  1.46it/s]\n",
      "                 Class     Images  Instances      Box(P          R      mAP50  mAP50-95): 100%|██████████| 3/3 [00:02<00:00,  1.41it/s]\n"
     ]
    }
   ],
   "source": [
    "!yolo task=detect mode=val model=E:/ImageProcessingProject_cloned/ImageProcessingEGCO486/weights/yolov11n_no_aug.pt data=E:/ImageProcessingProject_cloned/ImageProcessingEGCO486/config.yaml"
   ]
  },
  {
   "cell_type": "markdown",
   "metadata": {},
   "source": [
    "## validate yolov11s with augmentation"
   ]
  },
  {
   "cell_type": "code",
   "execution_count": 20,
   "metadata": {},
   "outputs": [
    {
     "name": "stdout",
     "output_type": "stream",
     "text": [
      "Ultralytics 8.3.31 🚀 Python-3.11.7 torch-2.3.1+cpu CPU (13th Gen Intel Core(TM) i7-13700F)\n",
      "YOLO11s summary (fused): 238 layers, 9,414,735 parameters, 0 gradients, 21.3 GFLOPs\n",
      "                   all         44        162      0.997      0.994      0.992      0.947\n",
      "                     0         27         32      0.997          1      0.995      0.952\n",
      "                     1         22         29      0.997          1      0.995      0.943\n",
      "                     2         20         26      0.993          1      0.995      0.947\n",
      "                     3         32         42      0.996          1      0.995      0.954\n",
      "                     4         26         33          1      0.969      0.979      0.937\n",
      "Speed: 0.8ms preprocess, 87.0ms inference, 0.0ms loss, 0.2ms postprocess per image\n",
      "Results saved to \u001b[1mruns\\detect\\val3\u001b[0m\n",
      "💡 Learn more at https://docs.ultralytics.com/modes/val\n"
     ]
    },
    {
     "name": "stderr",
     "output_type": "stream",
     "text": [
      "\n",
      "\u001b[34m\u001b[1mval: \u001b[0mScanning E:\\ImageProcessingProject_cloned\\ImageProcessingEGCO486\\val\\labels.cache... 44 images, 0 backgrounds, 0 corrupt: 100%|██████████| 44/44 [00:00<?, ?it/s]\n",
      "\u001b[34m\u001b[1mval: \u001b[0mScanning E:\\ImageProcessingProject_cloned\\ImageProcessingEGCO486\\val\\labels.cache... 44 images, 0 backgrounds, 0 corrupt: 100%|██████████| 44/44 [00:00<?, ?it/s]\n",
      "\n",
      "                 Class     Images  Instances      Box(P          R      mAP50  mAP50-95):   0%|          | 0/3 [00:00<?, ?it/s]\n",
      "                 Class     Images  Instances      Box(P          R      mAP50  mAP50-95):  33%|███▎      | 1/3 [00:01<00:03,  1.56s/it]\n",
      "                 Class     Images  Instances      Box(P          R      mAP50  mAP50-95):  67%|██████▋   | 2/3 [00:03<00:01,  1.51s/it]\n",
      "                 Class     Images  Instances      Box(P          R      mAP50  mAP50-95): 100%|██████████| 3/3 [00:04<00:00,  1.31s/it]\n",
      "                 Class     Images  Instances      Box(P          R      mAP50  mAP50-95): 100%|██████████| 3/3 [00:04<00:00,  1.37s/it]\n"
     ]
    }
   ],
   "source": [
    "!yolo task=detect mode=val model=E:/ImageProcessingProject_cloned/ImageProcessingEGCO486/weights/yolov11s_aug.pt data=E:/ImageProcessingProject_cloned/ImageProcessingEGCO486/config.yaml"
   ]
  },
  {
   "cell_type": "markdown",
   "metadata": {},
   "source": [
    "## validate yolov11s without augmentation"
   ]
  },
  {
   "cell_type": "code",
   "execution_count": 21,
   "metadata": {},
   "outputs": [
    {
     "name": "stdout",
     "output_type": "stream",
     "text": [
      "Ultralytics 8.3.31 🚀 Python-3.11.7 torch-2.3.1+cpu CPU (13th Gen Intel Core(TM) i7-13700F)\n",
      "YOLO11s summary (fused): 238 layers, 9,414,735 parameters, 0 gradients, 21.3 GFLOPs\n",
      "                   all         44        162      0.996      0.988       0.99      0.937\n",
      "                     0         27         32      0.996          1      0.995      0.947\n",
      "                     1         22         29      0.998          1      0.995      0.934\n",
      "                     2         20         26       0.99          1      0.995      0.935\n",
      "                     3         32         42          1      0.968      0.995      0.949\n",
      "                     4         26         33      0.997       0.97      0.972      0.921\n",
      "Speed: 0.8ms preprocess, 84.5ms inference, 0.0ms loss, 0.2ms postprocess per image\n",
      "Results saved to \u001b[1mruns\\detect\\val4\u001b[0m\n",
      "💡 Learn more at https://docs.ultralytics.com/modes/val\n"
     ]
    },
    {
     "name": "stderr",
     "output_type": "stream",
     "text": [
      "\n",
      "\u001b[34m\u001b[1mval: \u001b[0mScanning E:\\ImageProcessingProject_cloned\\ImageProcessingEGCO486\\val\\labels.cache... 44 images, 0 backgrounds, 0 corrupt: 100%|██████████| 44/44 [00:00<?, ?it/s]\n",
      "\u001b[34m\u001b[1mval: \u001b[0mScanning E:\\ImageProcessingProject_cloned\\ImageProcessingEGCO486\\val\\labels.cache... 44 images, 0 backgrounds, 0 corrupt: 100%|██████████| 44/44 [00:00<?, ?it/s]\n",
      "\n",
      "                 Class     Images  Instances      Box(P          R      mAP50  mAP50-95):   0%|          | 0/3 [00:00<?, ?it/s]\n",
      "                 Class     Images  Instances      Box(P          R      mAP50  mAP50-95):  33%|███▎      | 1/3 [00:01<00:02,  1.45s/it]\n",
      "                 Class     Images  Instances      Box(P          R      mAP50  mAP50-95):  67%|██████▋   | 2/3 [00:02<00:01,  1.43s/it]\n",
      "                 Class     Images  Instances      Box(P          R      mAP50  mAP50-95): 100%|██████████| 3/3 [00:04<00:00,  1.30s/it]\n",
      "                 Class     Images  Instances      Box(P          R      mAP50  mAP50-95): 100%|██████████| 3/3 [00:04<00:00,  1.34s/it]\n"
     ]
    }
   ],
   "source": [
    "!yolo task=detect mode=val model=E:/ImageProcessingProject_cloned/ImageProcessingEGCO486/weights/yolov11s_no_aug.pt data=E:/ImageProcessingProject_cloned/ImageProcessingEGCO486/config.yaml"
   ]
  }
 ],
 "metadata": {
  "kernelspec": {
   "display_name": "2d2p",
   "language": "python",
   "name": "python3"
  },
  "language_info": {
   "codemirror_mode": {
    "name": "ipython",
    "version": 3
   },
   "file_extension": ".py",
   "mimetype": "text/x-python",
   "name": "python",
   "nbconvert_exporter": "python",
   "pygments_lexer": "ipython3",
   "version": "3.11.7"
  }
 },
 "nbformat": 4,
 "nbformat_minor": 2
}
